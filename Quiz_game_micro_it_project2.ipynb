{
  "nbformat": 4,
  "nbformat_minor": 0,
  "metadata": {
    "colab": {
      "provenance": [],
      "authorship_tag": "ABX9TyN0fRme16BV4gxUPPW4ZCtT",
      "include_colab_link": true
    },
    "kernelspec": {
      "name": "python3",
      "display_name": "Python 3"
    },
    "language_info": {
      "name": "python"
    }
  },
  "cells": [
    {
      "cell_type": "markdown",
      "metadata": {
        "id": "view-in-github",
        "colab_type": "text"
      },
      "source": [
        "<a href=\"https://colab.research.google.com/github/mahesh45892/Tic-tac-toe-/blob/main/Quiz_game_micro_it_project2.ipynb\" target=\"_parent\"><img src=\"https://colab.research.google.com/assets/colab-badge.svg\" alt=\"Open In Colab\"/></a>"
      ]
    },
    {
      "cell_type": "code",
      "execution_count": null,
      "metadata": {
        "colab": {
          "base_uri": "https://localhost:8080/"
        },
        "id": "RmikH3PHFWVS",
        "outputId": "ea02d880-dbcc-4d21-f466-52bdb2d67d92"
      },
      "outputs": [
        {
          "output_type": "stream",
          "name": "stdout",
          "text": [
            "🎉 Welcome to the Quiz Game!\n",
            "\n",
            "What is the capital of France?\n",
            "1. Berlin\n",
            "2. Madrid\n",
            "3. Paris\n",
            "4. Rome\n",
            "Your answer (1-4): 3\n",
            "✅ Correct!\n",
            "\n",
            "Which planet is known as the Red Planet?\n",
            "1. Earth\n",
            "2. Mars\n",
            "3. Jupiter\n",
            "4. Saturn\n",
            "Your answer (1-4): 2\n",
            "✅ Correct!\n",
            "\n",
            "Who wrote 'Hamlet'?\n",
            "1. Shakespeare\n",
            "2. Dickens\n",
            "3. Hemingway\n",
            "4. Tolstoy\n",
            "Your answer (1-4): 1\n",
            "✅ Correct!\n",
            "\n",
            "What is 5 * 6?\n",
            "1. 30\n",
            "2. 35\n",
            "3. 25\n",
            "4. 40\n",
            "Your answer (1-4): 2\n",
            "❌ Wrong! The correct answer is: 30\n",
            "\n",
            "🏁 Quiz finished! Your score: 3/4\n"
          ]
        }
      ],
      "source": [
        "def ask_question(question, options, correct_answer):\n",
        "    print(\"\\n\" + question)\n",
        "    for i, option in enumerate(options, start=1):\n",
        "        print(f\"{i}. {option}\")\n",
        "\n",
        "    try:\n",
        "        answer = int(input(\"Your answer (1-4): \"))\n",
        "        if options[answer - 1].lower() == correct_answer.lower():\n",
        "            print(\"✅ Correct!\")\n",
        "            return True\n",
        "        else:\n",
        "            print(f\"❌ Wrong! The correct answer is: {correct_answer}\")\n",
        "            return False\n",
        "    except (ValueError, IndexError):\n",
        "        print(\"Invalid input. Please choose a number from 1 to 4.\")\n",
        "        return False\n",
        "\n",
        "\n",
        "def quiz_game():\n",
        "    questions = [\n",
        "        {\n",
        "            \"question\": \"What is the capital of France?\",\n",
        "            \"options\": [\"Berlin\", \"Madrid\", \"Paris\", \"Rome\"],\n",
        "            \"answer\": \"Paris\"\n",
        "        },\n",
        "        {\n",
        "            \"question\": \"Which planet is known as the Red Planet?\",\n",
        "            \"options\": [\"Earth\", \"Mars\", \"Jupiter\", \"Saturn\"],\n",
        "            \"answer\": \"Mars\"\n",
        "        },\n",
        "        {\n",
        "            \"question\": \"Who wrote 'Hamlet'?\",\n",
        "            \"options\": [\"Shakespeare\", \"Dickens\", \"Hemingway\", \"Tolstoy\"],\n",
        "            \"answer\": \"Shakespeare\"\n",
        "        },\n",
        "        {\n",
        "            \"question\": \"What is 5 * 6?\",\n",
        "            \"options\": [\"30\", \"35\", \"25\", \"40\"],\n",
        "            \"answer\": \"30\"\n",
        "        }\n",
        "    ]\n",
        "\n",
        "    score = 0\n",
        "\n",
        "    print(\"🎉 Welcome to the Quiz Game!\")\n",
        "    for q in questions:\n",
        "        if ask_question(q[\"question\"], q[\"options\"], q[\"answer\"]):\n",
        "            score += 1\n",
        "\n",
        "    print(f\"\\n🏁 Quiz finished! Your score: {score}/{len(questions)}\")\n",
        "\n",
        "\n",
        "if __name__ == \"__main__\":\n",
        "    quiz_game()\n"
      ]
    }
  ]
}